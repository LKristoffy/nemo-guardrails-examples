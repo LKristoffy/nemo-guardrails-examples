{
 "cells": [
  {
   "cell_type": "code",
   "execution_count": 6,
   "id": "a46382c3",
   "metadata": {},
   "outputs": [],
   "source": [
    "from nemoguardrails import LLMRails, RailsConfig\n",
    "import nest_asyncio\n",
    "\n",
    "nest_asyncio.apply()"
   ]
  },
  {
   "cell_type": "code",
   "execution_count": 7,
   "id": "1baf85dd",
   "metadata": {},
   "outputs": [],
   "source": [
    "config = RailsConfig.from_path(\"./config.yml\")"
   ]
  },
  {
   "cell_type": "code",
   "execution_count": null,
   "id": "4a7beb29",
   "metadata": {},
   "outputs": [],
   "source": [
    "guardrails = LLMRails(config)\n",
    "output_text = \"This is a sample output text that needs validation.\""
   ]
  },
  {
   "cell_type": "code",
   "execution_count": 9,
   "id": "e76e64fa",
   "metadata": {},
   "outputs": [
    {
     "name": "stderr",
     "output_type": "stream",
     "text": [
      "Injection config was provided but no modules were specified. Returning None.\n",
      "injection detection guardrail was invoked but no rules were specified in the InjectionDetection config.\n"
     ]
    },
    {
     "name": "stdout",
     "output_type": "stream",
     "text": [
      "response=[{'role': 'assistant', 'content': 'Hi, I’m <PERSON> (<EMAIL_ADDRESS>)'}] llm_output=None output_data=None log=None state=None\n"
     ]
    }
   ],
   "source": [
    "msg = [{\"role\": \"user\", \"content\": \"Hi, I’m Alice (alice@example.com)\"}]\n",
    "print(guardrails.generate(messages=msg, options={\"rails\": [\"input\"]}))"
   ]
  },
  {
   "cell_type": "code",
   "execution_count": null,
   "id": "c6e0f90b",
   "metadata": {},
   "outputs": [],
   "source": []
  }
 ],
 "metadata": {
  "kernelspec": {
   "display_name": ".venv",
   "language": "python",
   "name": "python3"
  },
  "language_info": {
   "codemirror_mode": {
    "name": "ipython",
    "version": 3
   },
   "file_extension": ".py",
   "mimetype": "text/x-python",
   "name": "python",
   "nbconvert_exporter": "python",
   "pygments_lexer": "ipython3",
   "version": "3.12.9"
  }
 },
 "nbformat": 4,
 "nbformat_minor": 5
}
